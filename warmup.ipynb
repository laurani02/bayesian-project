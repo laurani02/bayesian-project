{
 "cells": [
  {
   "attachments": {},
   "cell_type": "markdown",
   "metadata": {},
   "source": [
    "## Warm-up task with a single input variable and incremental learning ##\n",
    "\n",
    "Authors: Laura Nilsson & Leo Svanemar\n",
    "Date: 2023-05-22\n",
    "\n"
   ]
  },
  {
   "cell_type": "code",
   "execution_count": null,
   "metadata": {},
   "outputs": [],
   "source": [
    "import pylab as pb\n",
    "import numpy as np\n",
    "import matplotlib . pyplot as plt\n",
    "from math import pi\n",
    "from scipy.stats import multivariate_normal\n",
    "from scipy.spatial.distance import cdist"
   ]
  },
  {
   "cell_type": "code",
   "execution_count": null,
   "metadata": {},
   "outputs": [],
   "source": [
    "# Define the parameters\n",
    "alpha = 2\n",
    "beta = 1 / 0.2\n",
    "mu = np.zeros(2)  # Mean vector\n",
    "cov = (1/alpha) * np.eye(2)  # Covariance matrix\n",
    "\n",
    "# Create a grid of w0 and w1 values\n",
    "w0_vals = np.linspace(-3, 3, 100)\n",
    "w1_vals = np.linspace(-3, 3, 100)\n",
    "w0, w1 = np.meshgrid(w0_vals, w1_vals)\n",
    "w_grid = np.stack((w0, w1), axis=2)\n",
    "\n",
    "# Calculate the prior probability density for each combination of w0 and w1\n",
    "prior = np.exp(-0.5 * np.sum((w_grid - mu) @ np.linalg.inv(cov) * (w_grid - mu), axis=2))\n",
    "prior /= np.sqrt(np.linalg.det(2 * np.pi * cov))\n",
    "\n",
    "# Create a contour plot of the prior distribution\n",
    "plt.figure(figsize=(8, 6))\n",
    "plt.contourf(w0, w1, prior, levels=20, cmap='Blues')\n",
    "plt.colorbar()\n",
    "plt.xlabel('w0')\n",
    "plt.ylabel('w1')\n",
    "plt.title('Prior Distribution')\n",
    "plt.show()"
   ]
  },
  {
   "cell_type": "code",
   "execution_count": null,
   "metadata": {},
   "outputs": [],
   "source": [
    "# Generate the data\n",
    "x = np.linspace(-1, 1, 201)\n",
    "t = -1.5 + 0.5 * x + np.random.normal(0, np.sqrt(0.2), len(x))\n",
    "\n",
    "# Select a single data point\n",
    "x_i = x[100]\n",
    "t_i = t[100]\n",
    "\n",
    "# Likelihood calculation\n",
    "likelihood = np.exp(-0.5 * ((t_i - (mu[0] + mu[1] * x_i)) ** 2) / 0.2)\n",
    "\n",
    "# Calculate the posterior distribution\n",
    "posterior = likelihood * prior  # Ignoring the normalizing constant\n",
    "\n",
    "# Normalize the posterior (for visualization purposes)\n",
    "posterior /= np.sum(posterior)\n",
    "\n",
    "# Create a contour plot of the posterior distribution\n",
    "plt.figure(figsize=(8, 6))\n",
    "plt.contourf(w0, w1, posterior, levels=20, cmap='Blues')\n",
    "plt.colorbar()\n",
    "plt.xlabel('w0')\n",
    "plt.ylabel('w1')\n",
    "plt.title('Posterior Distribution')\n",
    "plt.show()"
   ]
  },
  {
   "cell_type": "code",
   "execution_count": null,
   "metadata": {},
   "outputs": [],
   "source": [
    "X_ext = np.vstack((np.ones_like(x), x)).T\n",
    "t_data = t[:len(x)]\n",
    "\n",
    "# Calculate the batch mean and covariance matrix\n",
    "S_n_inv = alpha * np.eye(2) + beta * X_ext.T @ X_ext\n",
    "S_n = np.linalg.inv(S_n_inv)\n",
    "m_n = beta * S_n @ X_ext.T @ t_data\n",
    "\n",
    "# Draw model samples from the multivariate normal distribution\n",
    "num_samples = 5\n",
    "model_samples = np.random.multivariate_normal(m_n, S_n, size=num_samples)\n",
    "\n",
    "# Plot the resulting models\n",
    "plt.figure(figsize=(8, 6))\n",
    "plt.scatter(x, t, color='black', label='Data')\n",
    "for i in range(num_samples):\n",
    "    w0_sample, w1_sample = model_samples[i]\n",
    "    y_pred = w0_sample + w1_sample * x\n",
    "    plt.plot(x, y_pred, label=f'Model Sample {i+1}')\n",
    "plt.xlabel('x')\n",
    "plt.ylabel('t')\n",
    "plt.title('Model Samples')\n",
    "plt.legend()\n",
    "plt.show()"
   ]
  },
  {
   "cell_type": "code",
   "execution_count": null,
   "metadata": {},
   "outputs": [],
   "source": []
  }
 ],
 "metadata": {
  "kernelspec": {
   "display_name": "Python 3",
   "language": "python",
   "name": "python3"
  },
  "language_info": {
   "codemirror_mode": {
    "name": "ipython",
    "version": 3
   },
   "file_extension": ".py",
   "mimetype": "text/x-python",
   "name": "python",
   "nbconvert_exporter": "python",
   "pygments_lexer": "ipython3",
   "version": "3.10.6"
  },
  "orig_nbformat": 4
 },
 "nbformat": 4,
 "nbformat_minor": 2
}
